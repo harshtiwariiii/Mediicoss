{
 "cells": [
  {
   "cell_type": "code",
   "execution_count": 1,
   "id": "f674f936",
   "metadata": {},
   "outputs": [
    {
     "name": "stdout",
     "output_type": "stream",
     "text": [
      "ok\n"
     ]
    }
   ],
   "source": [
    "print(\"ok\")"
   ]
  },
  {
   "cell_type": "code",
   "execution_count": 2,
   "id": "fbbe24bb",
   "metadata": {},
   "outputs": [
    {
     "data": {
      "text/plain": [
       "'c:\\\\Users\\\\ASUS\\\\Desktop\\\\Mediicoss\\\\research'"
      ]
     },
     "execution_count": 2,
     "metadata": {},
     "output_type": "execute_result"
    }
   ],
   "source": [
    "%pwd"
   ]
  },
  {
   "cell_type": "code",
   "execution_count": 2,
   "id": "c177c147",
   "metadata": {},
   "outputs": [],
   "source": [
    "import os\n",
    "os.chdir(\"../\")"
   ]
  },
  {
   "cell_type": "code",
   "execution_count": 3,
   "id": "f94a0fee",
   "metadata": {},
   "outputs": [],
   "source": [
    "from langchain.document_loaders import PyPDFLoader,DirectoryLoader\n",
    "from langchain.text_splitter import RecursiveCharacterTextSplitter"
   ]
  },
  {
   "cell_type": "code",
   "execution_count": 4,
   "id": "24f5876c",
   "metadata": {},
   "outputs": [],
   "source": [
    "def load_single_pdf(data):\n",
    "    loader = DirectoryLoader(\n",
    "        data, \n",
    "        glob=\"*.pdf\", \n",
    "        loader_cls=PyPDFLoader\n",
    "    )\n",
    "    documents = loader.load()\n",
    "    return documents\n"
   ]
  },
  {
   "cell_type": "code",
   "execution_count": 5,
   "id": "8a0bfdb1",
   "metadata": {},
   "outputs": [],
   "source": [
    "extracted_data = load_single_pdf(\"data\")"
   ]
  },
  {
   "cell_type": "code",
   "execution_count": 6,
   "id": "19f1ba16",
   "metadata": {},
   "outputs": [
    {
     "data": {
      "text/plain": [
       "637"
      ]
     },
     "execution_count": 6,
     "metadata": {},
     "output_type": "execute_result"
    }
   ],
   "source": [
    "len(extracted_data)"
   ]
  },
  {
   "cell_type": "code",
   "execution_count": 7,
   "id": "74d8b592",
   "metadata": {},
   "outputs": [],
   "source": [
    "from typing import List \n",
    "from langchain.schema import Document\n",
    "\n",
    "def filter_to_minimal_docs(docs: list[Document]) -> list[Document]:\n",
    "    minimal_docs:List[Document] = []\n",
    "    for doc in docs:\n",
    "        src=doc.metadata.get(\"source\",\"\")\n",
    "        minimal_docs.append(\n",
    "            Document(\n",
    "            page_content=doc.page_content,\n",
    "            metadata={\"source\":src}\n",
    "        ))\n",
    "    return minimal_docs"
   ]
  },
  {
   "cell_type": "code",
   "execution_count": 8,
   "id": "755cccac",
   "metadata": {},
   "outputs": [],
   "source": [
    "minimal_docs =filter_to_minimal_docs(extracted_data)"
   ]
  },
  {
   "cell_type": "code",
   "execution_count": 9,
   "id": "23b78c04",
   "metadata": {},
   "outputs": [],
   "source": [
    "#Chunking\n",
    "def text_split(minimal_docs):\n",
    "    text_splitter=RecursiveCharacterTextSplitter(\n",
    "        chunk_size=500,\n",
    "        chunk_overlap=20,\n",
    "        \n",
    "    )\n",
    "    texts_chunk=  text_splitter.split_documents(minimal_docs)\n",
    "    return texts_chunk\n"
   ]
  },
  {
   "cell_type": "code",
   "execution_count": 10,
   "id": "5cb6e595",
   "metadata": {},
   "outputs": [
    {
     "name": "stdout",
     "output_type": "stream",
     "text": [
      " numberof chunks:5859\n"
     ]
    }
   ],
   "source": [
    "test_chunk =text_split(minimal_docs)\n",
    "print(f\" numberof chunks:{len(test_chunk)}\")\n",
    "\n",
    "\n",
    "\n",
    "\n",
    "\n",
    "\n",
    "\n",
    "\n"
   ]
  },
  {
   "cell_type": "code",
   "execution_count": 11,
   "id": "061f62a5",
   "metadata": {},
   "outputs": [
    {
     "name": "stderr",
     "output_type": "stream",
     "text": [
      "C:\\Users\\ASUS\\AppData\\Local\\Temp\\ipykernel_3904\\2920820361.py:5: LangChainDeprecationWarning: The class `HuggingFaceEmbeddings` was deprecated in LangChain 0.2.2 and will be removed in 1.0. An updated version of the class exists in the :class:`~langchain-huggingface package and should be used instead. To use it run `pip install -U :class:`~langchain-huggingface` and import as `from :class:`~langchain_huggingface import HuggingFaceEmbeddings``.\n",
      "  embedding=HuggingFaceEmbeddings(\n",
      "c:\\Users\\ASUS\\Desktop\\Mediicoss\\medical\\Lib\\site-packages\\tqdm\\auto.py:21: TqdmWarning: IProgress not found. Please update jupyter and ipywidgets. See https://ipywidgets.readthedocs.io/en/stable/user_install.html\n",
      "  from .autonotebook import tqdm as notebook_tqdm\n"
     ]
    }
   ],
   "source": [
    "#embedding\n",
    "from langchain.embeddings import HuggingFaceEmbeddings\n",
    "def Download_embeddings():\n",
    "    model_name=\"sentence-transformers/all-MiniLM-L6-v2\"\n",
    "    embedding=HuggingFaceEmbeddings(\n",
    "        model_name=model_name,\n",
    "        \n",
    "    )\n",
    "    return embedding\n",
    "\n",
    "embeddings=Download_embeddings()\n",
    "\n",
    "\n",
    "\n",
    "\n",
    "\n"
   ]
  },
  {
   "cell_type": "code",
   "execution_count": 12,
   "id": "13aa0010",
   "metadata": {},
   "outputs": [
    {
     "data": {
      "text/plain": [
       "HuggingFaceEmbeddings(client=SentenceTransformer(\n",
       "  (0): Transformer({'max_seq_length': 256, 'do_lower_case': False}) with Transformer model: BertModel \n",
       "  (1): Pooling({'word_embedding_dimension': 384, 'pooling_mode_cls_token': False, 'pooling_mode_mean_tokens': True, 'pooling_mode_max_tokens': False, 'pooling_mode_mean_sqrt_len_tokens': False, 'pooling_mode_weightedmean_tokens': False, 'pooling_mode_lasttoken': False, 'include_prompt': True})\n",
       "  (2): Normalize()\n",
       "), model_name='sentence-transformers/all-MiniLM-L6-v2', cache_folder=None, model_kwargs={}, encode_kwargs={}, multi_process=False, show_progress=False)"
      ]
     },
     "execution_count": 12,
     "metadata": {},
     "output_type": "execute_result"
    }
   ],
   "source": [
    "embeddings"
   ]
  },
  {
   "cell_type": "code",
   "execution_count": 13,
   "id": "f0720374",
   "metadata": {},
   "outputs": [
    {
     "name": "stdout",
     "output_type": "stream",
     "text": [
      "[0.019096743315458298, 0.034465156495571136, 0.09162802249193192, 0.07016527652740479, -0.029946595430374146, -0.08419135212898254, 0.045813582837581635, 0.004958535544574261, -0.09189330786466599, 0.017400633543729782, -0.008816155605018139, -0.0006614617886953056, -0.02855694852769375, -0.021949714049696922, 0.055166687816381454, -0.04983649402856827, 0.08988092094659805, -0.08895715326070786, -0.11235621571540833, 0.03900052234530449, -0.06607077270746231, 0.026095140725374222, 0.036530692130327225, 0.06139037385582924, -0.05712488666176796, -0.05463936924934387, 0.03036557510495186, 0.03238755092024803, 0.012644711881875992, -0.1056857779622078, -0.05834547430276871, 0.06732934713363647, -0.040755920112133026, 0.006439770571887493, 0.005698689259588718, 0.052853215485811234, -0.039775311946868896, -0.11855249851942062, 0.0021162095945328474, -0.016692854464054108, 0.028338085860013962, -0.03743797540664673, -0.021371396258473396, -0.04147520288825035, 0.08497177809476852, -0.06869424879550934, 0.02465163916349411, 0.0716676414012909, 0.10129646956920624, 0.0046516479924321175, -0.10044204443693161, -0.03409433737397194, -0.04017586261034012, 0.036907393485307693, 0.060805998742580414, 0.0414845310151577, -0.06464231759309769, 0.004075036849826574, 0.0672323927283287, -0.009008185006678104, 0.02854790911078453, 0.03975849226117134, -0.08356387168169022, 0.07818618416786194, 0.047505900263786316, -0.034571271389722824, -0.07574190944433212, -0.0545523464679718, -0.03288615867495537, -0.04358893260359764, -0.03013775683939457, -0.028700968250632286, 0.021013731136918068, 0.03135025501251221, -0.03507106751203537, -0.08114135265350342, 0.015103185549378395, -0.05055728927254677, 0.041846856474876404, 0.018703904002904892, 0.07168609648942947, -0.08723876625299454, 0.004274318460375071, 0.035633351653814316, -0.03672021999955177, -0.04095074534416199, 0.05429356172680855, 0.07173128426074982, -0.005851946771144867, 0.0036166105419397354, -0.07766640186309814, 0.09107602387666702, 0.008505058474838734, 0.011655198410153389, 0.01647150330245495, -0.013715389184653759, 0.11914937198162079, -0.017316149547696114, -0.0807151198387146, 0.15161766111850739, 0.04225161299109459, 0.10792200267314911, 0.030309857800602913, -0.04534164443612099, 0.0012669351417571306, 0.030992722138762474, -0.09481146931648254, 0.055455874651670456, -0.040111690759658813, -0.053480442613363266, 0.013489722274243832, -0.047422319650650024, -0.040574461221694946, -0.0015343611594289541, 0.0811234638094902, -0.010530894622206688, 0.013359089381992817, 0.06123610585927963, 0.03557773679494858, 0.02418849803507328, 0.027593443170189857, 0.022382963448762894, 0.017850035801529884, 0.03131359443068504, -0.028898436576128006, 0.0657883882522583, 0.059350062161684036, -6.799298097446122e-33, 0.12271932512521744, -0.021339744329452515, 0.05296023562550545, 0.1537259966135025, -0.07583267986774445, -0.009754099883139133, -0.02992715686559677, -0.05324266105890274, 0.06352602690458298, -0.006747545674443245, 0.041695427149534225, 0.015832053497433662, -0.010370299220085144, 0.01584591716527939, -0.012914426624774933, 0.00692585576325655, -0.03669840097427368, 0.00824759528040886, -0.012457549571990967, 0.12813067436218262, -0.05889573693275452, -0.055159036070108414, -0.035295989364385605, 0.04028092697262764, 0.07243654131889343, -0.009657292626798153, -0.015443717129528522, -0.08016790449619293, 0.009702700190246105, 0.0013278973056003451, -0.04044627770781517, -0.0016515530878677964, 0.04055038467049599, -0.027145786210894585, 0.039446670562028885, -0.0023695984855294228, -0.01122965756803751, 0.009205574169754982, -0.004442908335477114, 0.009510621428489685, -0.008008114993572235, 0.03297479450702667, 0.10025889426469803, -0.027184728533029556, -0.014294905588030815, -0.04416023567318916, -0.023114779964089394, 0.032592643052339554, -0.030741311609745026, -0.03371468186378479, -0.08735746145248413, -0.005818224512040615, -0.0819869264960289, 0.056642334908246994, -0.03746073320508003, -0.04093938320875168, -0.016356445848941803, -0.024528905749320984, 0.02927980199456215, 0.06565262377262115, 0.031188905239105225, 0.1128038614988327, -0.008018365129828453, -0.059587862342596054, -0.10259697586297989, -0.05713994801044464, -0.031245479360222816, -0.02166556753218174, 0.09918410331010818, -0.08118566870689392, 0.033077504485845566, -0.04053870216012001, 0.02233596332371235, 0.05451499670743942, 0.009564921259880066, 0.04598136246204376, -0.0350426584482193, -0.04033379256725311, -0.012591447681188583, -0.07068264484405518, 0.018434859812259674, 0.11093512922525406, -0.03635752201080322, -0.003059942275285721, 0.00985498446971178, -0.0010396798606961966, -0.027691993862390518, -0.09040148556232452, -0.00622855219990015, 0.027660910040140152, -0.03199128061532974, 0.04620137810707092, 0.02702525071799755, -0.022197531536221504, -0.07935500144958496, 4.4641587330704775e-33, 0.12660633027553558, 0.01530363503843546, -0.06519089639186859, -0.04299622029066086, -0.09008954465389252, -0.03892262279987335, -0.04073456674814224, 0.08405837416648865, -0.07292678207159042, 0.015313910320401192, 0.06837795674800873, 0.01676791161298752, 0.04266888648271561, 0.009954322129487991, 0.04329888895153999, -0.0012125467183068395, 0.10194224119186401, 0.030446136370301247, -0.0016220693942159414, -0.03770860657095909, -0.0881190374493599, 0.0969618484377861, -0.042026251554489136, 0.05175328999757767, -0.030169524252414703, -0.02411256916821003, 0.008225586265325546, 0.0702589675784111, -0.049231186509132385, -0.03313424438238144, -0.002758477348834276, -0.02230382151901722, -0.014288347214460373, 0.085598424077034, 0.04443073645234108, 0.0378040187060833, 0.0016859418246895075, -0.07793691009283066, -0.042068470269441605, -0.06557098031044006, -0.07642660290002823, 0.04958990216255188, 0.0028443492483347654, 0.09872078150510788, 0.07328150421380997, -0.0637509897351265, 0.008000080473721027, 0.00877557322382927, 0.000839464133605361, 0.02650630660355091, -0.017607880756258965, -0.014134117402136326, 0.006216748151928186, 0.017505981028079987, 0.01284260768443346, 0.022825881838798523, -0.032478004693984985, -0.042686574161052704, 0.03488348796963692, -0.009335669688880444, 0.001005616970360279, 0.029126929119229317, 0.02496786043047905, 0.043678078800439835, 0.06107625737786293, -0.0039208089001476765, -0.020516281947493553, 0.014230654574930668, -0.019183160737156868, -0.034414418041706085, -0.03630567342042923, -0.03781212493777275, 0.033420853316783905, -0.022875620052218437, 0.007961118593811989, 0.03408406674861908, 0.02874888852238655, -0.0067682391963899136, -0.01763792894780636, -0.00017443984688725322, -0.020491618663072586, 0.02195288985967636, 0.046428095549345016, -0.09749754518270493, -0.10485649108886719, -0.06310377269983292, 0.04805663600564003, 0.03751694783568382, 0.05452950298786163, 0.02473054639995098, 0.031021561473608017, 0.02685776725411415, -0.003434594953432679, 0.00932961143553257, 0.010646884329617023, -1.785356573691388e-08, 0.017632806673645973, -0.006916426122188568, -0.027644431218504906, 0.05963194742798805, 0.002975250594317913, 0.0233878493309021, -0.07481945306062698, -0.013448650017380714, -0.051678236573934555, -0.026301484555006027, 0.04027463495731354, 0.0023245015181601048, -0.10290861129760742, -0.09446514397859573, 0.033735066652297974, 0.015668727457523346, 0.08642300218343735, 0.06274773925542831, -0.07435992360115051, -0.09106236696243286, 0.02468850649893284, -0.0037696657236665487, 0.005878152325749397, 0.058807920664548874, -0.009182177484035492, 0.017796041443943977, 0.014238473027944565, -0.00031469407258555293, -0.008367203176021576, 0.07686841487884521, 0.02061048522591591, 0.16892173886299133, -0.010948614217340946, 0.015818797051906586, -0.03116709366440773, -0.051331035792827606, 0.01859191618859768, 0.003808526089414954, 0.04801809787750244, 0.03197978436946869, -0.014457222074270248, 0.003324038116261363, -0.05325059965252876, -0.056060366332530975, 0.05765755847096443, -0.014859643764793873, 0.06438572704792023, -0.11207679659128189, 0.002142575103789568, 0.0009624686208553612, -0.04924214258790016, 0.015646785497665405, 0.05640392005443573, 0.050491813570261, 0.040296703577041626, 0.07795554399490356, -0.011732918210327625, 0.029994988813996315, -0.06743878126144409, 0.025584956631064415, 0.0036096631083637476, -0.023025348782539368, -0.03700179234147072, -0.0023748469538986683]\n",
      "384\n"
     ]
    }
   ],
   "source": [
    "vector=embeddings.embed_query(\"Hello, how are you?\")\n",
    "print(vector)\n",
    "print(len(vector))\n",
    "\n"
   ]
  },
  {
   "cell_type": "code",
   "execution_count": 14,
   "id": "88daf2e8",
   "metadata": {},
   "outputs": [
    {
     "data": {
      "text/plain": [
       "True"
      ]
     },
     "execution_count": 14,
     "metadata": {},
     "output_type": "execute_result"
    }
   ],
   "source": [
    "from dotenv import load_dotenv\n",
    "import os\n",
    "load_dotenv()\n"
   ]
  },
  {
   "cell_type": "code",
   "execution_count": 15,
   "id": "17c37047",
   "metadata": {},
   "outputs": [],
   "source": [
    "PINECONE_API_KEY = os.getenv(\"PINECONE_API_KEY\")\n",
    "#OPENAI_API_KEY = os.getenv(\"OPENAI_API_KEY\")\n",
    "\n",
    "\n",
    "os.environ[\"PINECONE_API_KEY\"] = PINECONE_API_KEY\n",
    "#os.environ[\"OPENAI_API_KEY\"] = OPENAI_API_KEY\n"
   ]
  },
  {
   "cell_type": "code",
   "execution_count": 16,
   "id": "6854c949",
   "metadata": {},
   "outputs": [],
   "source": [
    "from pinecone import Pinecone\n",
    "pinecone_api_key = PINECONE_API_KEY\n",
    "pc = Pinecone(api_key=pinecone_api_key)"
   ]
  },
  {
   "cell_type": "code",
   "execution_count": 17,
   "id": "c5ca0547",
   "metadata": {},
   "outputs": [
    {
     "data": {
      "text/plain": [
       "<pinecone.pinecone.Pinecone at 0x1de94660090>"
      ]
     },
     "execution_count": 17,
     "metadata": {},
     "output_type": "execute_result"
    }
   ],
   "source": [
    "pc"
   ]
  },
  {
   "cell_type": "code",
   "execution_count": 18,
   "id": "ba57dcbc",
   "metadata": {},
   "outputs": [],
   "source": [
    "from pinecone import ServerlessSpec\n",
    "index_name = \"medical-chatbot\"\n",
    "\n",
    "if not pc.has_index(index_name):\n",
    "    pc.create_index(\n",
    "        name=index_name,\n",
    "        dimension=384,\n",
    "        metric=\"cosine\",\n",
    "        spec=ServerlessSpec(\n",
    "            cloud=\"aws\",\n",
    "            region=\"us-east-1\"\n",
    "        )\n",
    "    )\n",
    "\n",
    "\n",
    "index = pc.Index(index_name)\n"
   ]
  },
  {
   "cell_type": "code",
   "execution_count": 19,
   "id": "eac222d5",
   "metadata": {},
   "outputs": [],
   "source": [
    "from langchain_pinecone import PineconeVectorStore\n",
    "docsearch = PineconeVectorStore.from_documents(\n",
    "    documents=test_chunk,\n",
    "    embedding=embeddings,\n",
    "    index_name=index_name\n",
    ")"
   ]
  },
  {
   "cell_type": "code",
   "execution_count": 22,
   "id": "e289ad77",
   "metadata": {},
   "outputs": [],
   "source": [
    "from langchain_pinecone import PineconeVectorStore\n",
    "docsearch = PineconeVectorStore.from_existing_index(\n",
    "    index_name=index_name,\n",
    "    embedding=embeddings\n",
    ")"
   ]
  },
  {
   "cell_type": "code",
   "execution_count": 25,
   "id": "b313ff0a",
   "metadata": {},
   "outputs": [
    {
     "data": {
      "text/plain": [
       "['9018e958-cb8d-45f7-95d5-a80149641696']"
      ]
     },
     "execution_count": 25,
     "metadata": {},
     "output_type": "execute_result"
    }
   ],
   "source": [
    "#Adding documents to Pinecone\n",
    "NEW_DOCS = Document(\n",
    "    page_content=\"What is the capital of France?\",\n",
    "    metadata={\"source\": \"France\"}\n",
    ")\n",
    "\n",
    "docsearch.add_documents([NEW_DOCS])\n",
    "\n",
    "\n",
    "\n"
   ]
  },
  {
   "cell_type": "code",
   "execution_count": 27,
   "id": "af1644cb",
   "metadata": {},
   "outputs": [],
   "source": [
    "retriever = docsearch.as_retriever(search_type=\"similarity\",search_kwargs={\"k\":3})"
   ]
  },
  {
   "cell_type": "code",
   "execution_count": 30,
   "id": "d9127141",
   "metadata": {},
   "outputs": [
    {
     "data": {
      "text/plain": [
       "[Document(id='a19b000f-76b5-4813-9fa7-c2a3fc6da263', metadata={'source': 'data\\\\Medical_book.pdf'}, page_content='GALE ENCYCLOPEDIA OF MEDICINE 226\\nAcne\\nGEM - 0001 to 0432 - A  10/22/03 1:41 PM  Page 26'),\n",
       " Document(id='a9df6119-3a46-4c70-b94a-a465e327d990', metadata={'source': 'data\\\\Medical_book.pdf'}, page_content='GALE ENCYCLOPEDIA OF MEDICINE 2 25\\nAcne\\nAcne vulgaris affecting a woman’s face. Acne is the general\\nname given to a skin disorder in which the sebaceous\\nglands become inflamed. (Photograph by Biophoto Associ-\\nates, Photo Researchers, Inc. Reproduced by permission.)\\nGEM - 0001 to 0432 - A  10/22/03 1:41 PM  Page 25'),\n",
       " Document(id='434fddd6-ee0d-4d9a-b66a-68de1d803c6a', metadata={'source': 'data\\\\Medical_book.pdf'}, page_content='Acidosis see Respiratory acidosis; Renal\\ntubular acidosis; Metabolic acidosis\\nAcne\\nDefinition\\nAcne is a common skin disease characterized by\\npimples on the face, chest, and back. It occurs when the\\npores of the skin become clogged with oil, dead skin\\ncells, and bacteria.\\nDescription\\nAcne vulgaris, the medical term for common acne, is\\nthe most common skin disease. It affects nearly 17 million\\npeople in the United States. While acne can arise at any')]"
      ]
     },
     "execution_count": 30,
     "metadata": {},
     "output_type": "execute_result"
    }
   ],
   "source": [
    "retrieved_docs = retriever.invoke(\"what is Acne?\")\n",
    "retrieved_docs"
   ]
  },
  {
   "cell_type": "code",
   "execution_count": 42,
   "id": "3e27fd75",
   "metadata": {},
   "outputs": [
    {
     "name": "stderr",
     "output_type": "stream",
     "text": [
      "C:\\Users\\ASUS\\AppData\\Local\\Temp\\ipykernel_3904\\3845985598.py:2: LangChainDeprecationWarning: The class `Ollama` was deprecated in LangChain 0.3.1 and will be removed in 1.0.0. An updated version of the class exists in the :class:`~langchain-ollama package and should be used instead. To use it run `pip install -U :class:`~langchain-ollama` and import as `from :class:`~langchain_ollama import OllamaLLM``.\n",
      "  llm = Ollama(model=\"llama2\")\n"
     ]
    }
   ],
   "source": [
    "from langchain_community.llms import Ollama\n",
    "llm = Ollama(model=\"llama2\")\n",
    "\n",
    "\n",
    "\n",
    "\n",
    "\n",
    "\n",
    "\n",
    "\n",
    "\n",
    "\n"
   ]
  },
  {
   "cell_type": "code",
   "execution_count": 43,
   "id": "2b6f43ff",
   "metadata": {},
   "outputs": [],
   "source": [
    "from langchain.chains import create_retrieval_chain\n",
    "from langchain.chains.combine_documents.stuff import create_stuff_documents_chain\n",
    "from langchain_core.prompts import PromptTemplate\n"
   ]
  },
  {
   "cell_type": "code",
   "execution_count": 46,
   "id": "90fb880a",
   "metadata": {},
   "outputs": [],
   "source": [
    "system_prompt = \"\"\"You are Mediicoss, a medical information assistant. \n",
    "Use the provided context to answer questions safely and accurately.\n",
    "\n",
    "Context: {context}\n",
    "\n",
    "Remember: You are NOT a doctor. Always recommend consulting healthcare professionals for personal medical concerns.\n",
    "\n",
    "Question: {input}\n",
    "Answer:\"\"\"\n",
    "\n",
    "prompt = PromptTemplate(\n",
    "    input_variables=[\"context\", \"input\"],\n",
    "    template=system_prompt\n",
    ")\n",
    "\n",
    "\n",
    "\n",
    "\n"
   ]
  },
  {
   "cell_type": "code",
   "execution_count": 49,
   "id": "e82872e2",
   "metadata": {},
   "outputs": [],
   "source": [
    "from langchain.chains import LLMChain\n",
    "from langchain.chains import create_retrieval_chain\n",
    "from langchain.chains.combine_documents.stuff import create_stuff_documents_chain"
   ]
  },
  {
   "cell_type": "code",
   "execution_count": 50,
   "id": "3a0ff0c9",
   "metadata": {},
   "outputs": [],
   "source": [
    "question_answer_chain = create_stuff_documents_chain(llm,prompt)\n",
    "rag_chain=create_retrieval_chain(retriever,question_answer_chain)"
   ]
  },
  {
   "cell_type": "code",
   "execution_count": 52,
   "id": "b87176e5",
   "metadata": {},
   "outputs": [
    {
     "name": "stdout",
     "output_type": "stream",
     "text": [
      "Acromegaly and gigantism are two related endocrine disorders that occur when the pituitary gland, located at the base of the brain, produces too much growth hormone. In acromegaly, the excess growth hormone causes an increase in bone growth and soft tissue, leading to enlargement of various body parts, including the hands, feet, and face. Gigantism is a similar disorder that occurs in children, where excess growth hormone leads to abnormally tall stature. Both acromegaly and gigantism can have serious health consequences if left untreated, including joint pain, carpal tunnel syndrome, and increased risk of heart disease. If you suspect you or someone you know may have acromegaly or gigantism, it is important to consult a healthcare professional for proper diagnosis and treatment.\n"
     ]
    }
   ],
   "source": [
    "response=rag_chain.invoke({\"input\":\"what is Acromegaly and gigantism?\"})\n",
    "print(response[\"answer\"])"
   ]
  },
  {
   "cell_type": "code",
   "execution_count": 53,
   "id": "eec42056",
   "metadata": {},
   "outputs": [
    {
     "name": "stdout",
     "output_type": "stream",
     "text": [
      "Acne is a common skin disease characterized by pimples on the face, chest, and back. It occurs when the pores of the skin become clogged with oil, dead skin cells, and bacteria. Acne vulgaris, the medical term for common acne, is the most common skin disease and affects nearly 17 million people in the United States. While acne can arise at any age, it is most prevalent during adolescence and young adulthood. It is important to note that I am not a doctor, and if you have concerns about your acne or any other medical condition, you should consult with a qualified healthcare professional for proper diagnosis and treatment.\n"
     ]
    }
   ],
   "source": [
    "response=rag_chain.invoke({\"input\":\"what is Acne?\"})\n",
    "print(response[\"answer\"])"
   ]
  },
  {
   "cell_type": "code",
   "execution_count": null,
   "id": "47b32e5d",
   "metadata": {},
   "outputs": [],
   "source": [
    "    "
   ]
  },
  {
   "cell_type": "code",
   "execution_count": null,
   "id": "dca3731a",
   "metadata": {},
   "outputs": [],
   "source": []
  }
 ],
 "metadata": {
  "kernelspec": {
   "display_name": "medical",
   "language": "python",
   "name": "python3"
  },
  "language_info": {
   "codemirror_mode": {
    "name": "ipython",
    "version": 3
   },
   "file_extension": ".py",
   "mimetype": "text/x-python",
   "name": "python",
   "nbconvert_exporter": "python",
   "pygments_lexer": "ipython3",
   "version": "3.11.9"
  }
 },
 "nbformat": 4,
 "nbformat_minor": 5
}
