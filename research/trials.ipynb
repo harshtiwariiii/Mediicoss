{
 "cells": [
  {
   "cell_type": "code",
   "execution_count": 1,
   "id": "f674f936",
   "metadata": {},
   "outputs": [
    {
     "name": "stdout",
     "output_type": "stream",
     "text": [
      "ok\n"
     ]
    }
   ],
   "source": [
    "print(\"ok\")"
   ]
  },
  {
   "cell_type": "code",
   "execution_count": 2,
   "id": "fbbe24bb",
   "metadata": {},
   "outputs": [
    {
     "data": {
      "text/plain": [
       "'c:\\\\Users\\\\ASUS\\\\Desktop\\\\Mediicoss\\\\research'"
      ]
     },
     "execution_count": 2,
     "metadata": {},
     "output_type": "execute_result"
    }
   ],
   "source": [
    "%pwd"
   ]
  },
  {
   "cell_type": "code",
   "execution_count": 3,
   "id": "c177c147",
   "metadata": {},
   "outputs": [],
   "source": [
    "import os\n",
    "os.chdir(\"../\")"
   ]
  },
  {
   "cell_type": "code",
   "execution_count": 4,
   "id": "f94a0fee",
   "metadata": {},
   "outputs": [],
   "source": [
    "from langchain.document_loaders import PyPDFLoader,DirectoryLoader\n",
    "from langchain.text_splitter import RecursiveCharacterTextSplitter"
   ]
  },
  {
   "cell_type": "code",
   "execution_count": 5,
   "id": "24f5876c",
   "metadata": {},
   "outputs": [],
   "source": [
    "def load_single_pdf(data):\n",
    "    loader = DirectoryLoader(\n",
    "        data, \n",
    "        glob=\"*.pdf\", \n",
    "        loader_cls=PyPDFLoader\n",
    "    )\n",
    "    documents = loader.load()\n",
    "    return documents\n"
   ]
  },
  {
   "cell_type": "code",
   "execution_count": 6,
   "id": "8a0bfdb1",
   "metadata": {},
   "outputs": [],
   "source": [
    "extracted_data = load_single_pdf(\"data\")"
   ]
  },
  {
   "cell_type": "code",
   "execution_count": 7,
   "id": "19f1ba16",
   "metadata": {},
   "outputs": [
    {
     "data": {
      "text/plain": [
       "637"
      ]
     },
     "execution_count": 7,
     "metadata": {},
     "output_type": "execute_result"
    }
   ],
   "source": [
    "len(extracted_data)"
   ]
  },
  {
   "cell_type": "code",
   "execution_count": 11,
   "id": "74d8b592",
   "metadata": {},
   "outputs": [],
   "source": [
    "from typing import List \n",
    "from langchain.schema import Document\n",
    "\n",
    "def filter_to_minimal_docs(docs: list[Document]) -> list[Document]:\n",
    "    minimal_docs:List[Document] = []\n",
    "    for doc in docs:\n",
    "        src=doc.metadata.get(\"source\",\"\")\n",
    "        minimal_docs.append(\n",
    "            Document(\n",
    "            page_content=doc.page_content,\n",
    "            metadata={\"source\":src}\n",
    "        ))\n",
    "    return minimal_docs"
   ]
  },
  {
   "cell_type": "code",
   "execution_count": 12,
   "id": "755cccac",
   "metadata": {},
   "outputs": [],
   "source": [
    "minimal_docs =filter_to_minimal_docs(extracted_data)"
   ]
  },
  {
   "cell_type": "code",
   "execution_count": 35,
   "id": "23b78c04",
   "metadata": {},
   "outputs": [],
   "source": [
    "#Chunking\n",
    "def text_split(minimal_docs):\n",
    "    text_splitter=RecursiveCharacterTextSplitter(\n",
    "        chunk_size=500,\n",
    "        chuck_overlap=20,\n",
    "        length_function=len\n",
    "    )\n",
    "    texts_chunk=  text_splitter.split_documents(minimal_docs)\n",
    "    return texts_chunk\n"
   ]
  },
  {
   "cell_type": "code",
   "execution_count": null,
   "id": "5cb6e595",
   "metadata": {},
   "outputs": [],
   "source": []
  }
 ],
 "metadata": {
  "kernelspec": {
   "display_name": "medical (3.11.9)",
   "language": "python",
   "name": "python3"
  },
  "language_info": {
   "codemirror_mode": {
    "name": "ipython",
    "version": 3
   },
   "file_extension": ".py",
   "mimetype": "text/x-python",
   "name": "python",
   "nbconvert_exporter": "python",
   "pygments_lexer": "ipython3",
   "version": "3.11.9"
  }
 },
 "nbformat": 4,
 "nbformat_minor": 5
}
